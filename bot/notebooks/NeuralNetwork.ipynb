{
  "cells": [
    {
      "cell_type": "markdown",
      "metadata": {},
      "source": [
        "# Chess Neural Network\n",
        "\n",
        "Building a neural network that learns to play chess based on my gameplay data.\n",
        "\n",
        "## Goal\n",
        "Train a move prediction model to create an AI that plays like me.\n",
        "\n",
        "\n"
      ]
    },
    {
      "cell_type": "code",
      "execution_count": 35,
      "metadata": {},
      "outputs": [],
      "source": [
        "# Importing necessary libraries\n",
        "import pandas as pd\n",
        "import ast\n",
        "import torch\n",
        "import torch.nn as nn\n",
        "import torch.optim as optim\n",
        "from torch.utils.data import Dataset, DataLoader"
      ]
    },
    {
      "cell_type": "markdown",
      "metadata": {},
      "source": [
        "## Step 1: Load Chess Data\n",
        "\n",
        "Load cleaned data from csv file\n"
      ]
    },
    {
      "cell_type": "code",
      "execution_count": 36,
      "metadata": {},
      "outputs": [
        {
          "data": {
            "text/html": [
              "<div>\n",
              "<style scoped>\n",
              "    .dataframe tbody tr th:only-of-type {\n",
              "        vertical-align: middle;\n",
              "    }\n",
              "\n",
              "    .dataframe tbody tr th {\n",
              "        vertical-align: top;\n",
              "    }\n",
              "\n",
              "    .dataframe thead th {\n",
              "        text-align: right;\n",
              "    }\n",
              "</style>\n",
              "<table border=\"1\" class=\"dataframe\">\n",
              "  <thead>\n",
              "    <tr style=\"text-align: right;\">\n",
              "      <th></th>\n",
              "      <th>game_id</th>\n",
              "      <th>moves</th>\n",
              "      <th>num_moves</th>\n",
              "      <th>first_move</th>\n",
              "    </tr>\n",
              "  </thead>\n",
              "  <tbody>\n",
              "    <tr>\n",
              "      <th>0</th>\n",
              "      <td>123118274906</td>\n",
              "      <td>[('white', 'e4', True), ('black', 'e6', False)...</td>\n",
              "      <td>90</td>\n",
              "      <td>e4</td>\n",
              "    </tr>\n",
              "    <tr>\n",
              "      <th>1</th>\n",
              "      <td>123118510404</td>\n",
              "      <td>[('white', 'd4', False), ('black', 'c5', True)...</td>\n",
              "      <td>141</td>\n",
              "      <td>d4</td>\n",
              "    </tr>\n",
              "    <tr>\n",
              "      <th>2</th>\n",
              "      <td>123118790014</td>\n",
              "      <td>[('white', 'e4', False), ('black', 'e5', True)...</td>\n",
              "      <td>46</td>\n",
              "      <td>e4</td>\n",
              "    </tr>\n",
              "    <tr>\n",
              "      <th>3</th>\n",
              "      <td>123158939328</td>\n",
              "      <td>[('white', 'e4', False), ('black', 'd5', True)...</td>\n",
              "      <td>88</td>\n",
              "      <td>e4</td>\n",
              "    </tr>\n",
              "    <tr>\n",
              "      <th>4</th>\n",
              "      <td>123160166430</td>\n",
              "      <td>[('white', 'e4', True), ('black', 'e5', False)...</td>\n",
              "      <td>110</td>\n",
              "      <td>e4</td>\n",
              "    </tr>\n",
              "  </tbody>\n",
              "</table>\n",
              "</div>"
            ],
            "text/plain": [
              "        game_id                                              moves  num_moves  \\\n",
              "0  123118274906  [('white', 'e4', True), ('black', 'e6', False)...         90   \n",
              "1  123118510404  [('white', 'd4', False), ('black', 'c5', True)...        141   \n",
              "2  123118790014  [('white', 'e4', False), ('black', 'e5', True)...         46   \n",
              "3  123158939328  [('white', 'e4', False), ('black', 'd5', True)...         88   \n",
              "4  123160166430  [('white', 'e4', True), ('black', 'e5', False)...        110   \n",
              "\n",
              "  first_move  \n",
              "0         e4  \n",
              "1         d4  \n",
              "2         e4  \n",
              "3         e4  \n",
              "4         e4  "
            ]
          },
          "execution_count": 36,
          "metadata": {},
          "output_type": "execute_result"
        }
      ],
      "source": [
        "df = pd.read_csv(\"/Users/riteshbhandari/Documents/Dokumentit – Ritesh - MacBook Pro/GitHub/Chess-engine/bot/data-analysis/cleaned_data.csv\")\n",
        "df.head()"
      ]
    },
    {
      "cell_type": "markdown",
      "metadata": {},
      "source": [
        "# Step 2: Pre-processing\n",
        "\n",
        "2.1 Turning features to numerical values (moves.. etc) \n",
        "\n",
        "2.2 Encoding the features to be trained"
      ]
    },
    {
      "cell_type": "code",
      "execution_count": 37,
      "metadata": {},
      "outputs": [
        {
          "data": {
            "text/plain": [
              "['e4', 'e6', 'd4', 'Qh4', 'Nc3', 'f5', 'Nf3', 'Qe7', 'e5', 'Qb4']"
            ]
          },
          "execution_count": 37,
          "metadata": {},
          "output_type": "execute_result"
        }
      ],
      "source": [
        "# convert string representation of list to actual list\n",
        "df[\"moves\"] = df[\"moves\"].apply(ast.literal_eval)\n",
        "\n",
        "# saving all the moves to single list to be encoded \n",
        "every_move = []\n",
        "for game in df[\"moves\"]:\n",
        "    for move in game:\n",
        "        every_move.append(move[1])\n",
        "\n",
        "every_move[:10]"
      ]
    },
    {
      "cell_type": "code",
      "execution_count": 38,
      "metadata": {},
      "outputs": [
        {
          "name": "stdout",
          "output_type": "stream",
          "text": [
            "Number of different moves: 1927\n",
            "\n",
            "First 10 moves as numbers: \n",
            "[207, 493, 1489, 290, 1640, 627, 1037, 1679, 934, 1536]\n",
            "\n",
            "First 10 original moves: \n",
            "['e4', 'e6', 'd4', 'Qh4', 'Nc3', 'f5', 'Nf3', 'Qe7', 'e5', 'Qb4']\n"
          ]
        }
      ],
      "source": [
        "# getting all the unique moves\n",
        "unique_moves = set(every_move)  # just the unique moves\n",
        "print(\"Number of different moves:\", len(unique_moves))\n",
        "print()\n",
        "\n",
        "# give move a number\n",
        "move_to_number = {}\n",
        "\n",
        "# turning integer back to moves (for future use)\n",
        "number_to_move= {}\n",
        "\n",
        "for i, move in enumerate(unique_moves):\n",
        "    move_to_number[move] = i\n",
        "    number_to_move[i] = move\n",
        "\n",
        "# turning all the numbers into integers\n",
        "number_moves = []\n",
        "for move in every_move:\n",
        "    number_moves.append(move_to_number[move])\n",
        "\n",
        "# first 10 moves\n",
        "print(\"First 10 moves as numbers: \")\n",
        "print(number_moves[:10])\n",
        "print()\n",
        "\n",
        "# first 10 original moves\n",
        "print(\"First 10 original moves: \")\n",
        "print(every_move[:10]) "
      ]
    },
    {
      "cell_type": "code",
      "execution_count": 39,
      "metadata": {},
      "outputs": [
        {
          "name": "stdout",
          "output_type": "stream",
          "text": [
            "moves     [(white, e4, True), (black, e6, False), (white...\n",
            "colors    [1, 0, 1, 0, 1, 0, 1, 0, 1, 0, 1, 0, 1, 0, 1, ...\n",
            "Name: 0, dtype: object\n"
          ]
        }
      ],
      "source": [
        "# Create colors per game\n",
        "colors_per_game = []\n",
        "\n",
        "for game in df[\"moves\"]:\n",
        "    game_colors = []\n",
        "    for move in game:\n",
        "        if move[0] == \"white\":\n",
        "            game_colors.append(1)\n",
        "        else:  # black\n",
        "            game_colors.append(0)\n",
        "    colors_per_game.append(game_colors)\n",
        "\n",
        "# Add to DataFrame\n",
        "df[\"colors\"] = colors_per_game\n",
        "\n",
        "# Check first row\n",
        "print(df[[\"moves\", \"colors\"]].iloc[0])\n"
      ]
    },
    {
      "cell_type": "code",
      "execution_count": 40,
      "metadata": {},
      "outputs": [
        {
          "name": "stdout",
          "output_type": "stream",
          "text": [
            "moves            [(white, e4, True), (black, e6, False), (white...\n",
            "teoriat_moves    [1, 0, 1, 0, 1, 0, 1, 0, 1, 0, 1, 0, 1, 0, 1, ...\n",
            "Name: 0, dtype: object\n"
          ]
        }
      ],
      "source": [
        "# turn white or black to integers ( 1  = (White), 0 = (Black) )\n",
        "teoriat_moves_per_game = []\n",
        "\n",
        "for game in df[\"moves\"]:\n",
        "    game_teoriat = []\n",
        "    for move in game:\n",
        "        if move[2] == True:\n",
        "            game_teoriat.append(1)\n",
        "        else:\n",
        "            game_teoriat.append(0)\n",
        "    teoriat_moves_per_game.append(game_teoriat)\n",
        "\n",
        "# Add to DataFrame\n",
        "df[\"teoriat_moves\"] = teoriat_moves_per_game\n",
        "\n",
        "# Check first row\n",
        "print(df[[\"moves\", \"teoriat_moves\"]].iloc[0])"
      ]
    },
    {
      "cell_type": "code",
      "execution_count": 41,
      "metadata": {},
      "outputs": [
        {
          "name": "stdout",
          "output_type": "stream",
          "text": [
            "[(1, 207, 1), (0, 493, 0), (1, 1489, 1), (0, 290, 0), (1, 1640, 1), (0, 627, 0), (1, 1037, 1), (0, 1679, 0), (1, 934, 1), (0, 1536, 0), (1, 1073, 1), (0, 46, 0), (1, 421, 1), (0, 1011, 0), (1, 571, 1), (0, 1241, 0), (1, 532, 1), (0, 1502, 0), (1, 1568, 1), (0, 729, 0), (1, 985, 1), (0, 974, 0), (1, 1201, 1), (0, 524, 0), (1, 826, 1), (0, 494, 0), (1, 184, 1), (0, 1438, 0), (1, 57, 1), (0, 1826, 0), (1, 985, 1), (0, 310, 0), (1, 896, 1), (0, 47, 0), (1, 1889, 1), (0, 557, 0), (1, 306, 1), (0, 640, 0), (1, 1251, 1), (0, 1175, 0), (1, 464, 1), (0, 62, 0), (1, 548, 1), (0, 497, 0), (1, 1889, 1), (0, 1027, 0), (1, 478, 1), (0, 372, 0), (1, 49, 1), (0, 1525, 0), (1, 1247, 1), (0, 1762, 0), (1, 788, 1), (0, 1502, 0), (1, 829, 1), (0, 635, 0), (1, 1889, 1), (0, 789, 0), (1, 1251, 1), (0, 904, 0), (1, 972, 1), (0, 61, 0), (1, 16, 1), (0, 1295, 0), (1, 479, 1), (0, 1379, 0), (1, 916, 1), (0, 537, 0), (1, 972, 1), (0, 1379, 0), (1, 916, 1), (0, 537, 0), (1, 1399, 1), (0, 1122, 0), (1, 1650, 1), (0, 517, 0), (1, 1784, 1), (0, 934, 0), (1, 1665, 1), (0, 349, 0), (1, 1379, 1), (0, 703, 0), (1, 1180, 1), (0, 207, 0), (1, 1789, 1), (0, 835, 0), (1, 1889, 1), (0, 920, 0), (1, 455, 1), (0, 1122, 0)]\n"
          ]
        }
      ],
      "source": [
        "#combine all the features into a single list of tuples seperated by games \n",
        "combined_features_per_game = []\n",
        "\n",
        "for game_idx in range(len(df)):\n",
        "    game_combined = []\n",
        "    moves = df[\"moves\"].iloc[game_idx]\n",
        "    colors = df[\"colors\"].iloc[game_idx]\n",
        "    teoriat = df[\"teoriat_moves\"].iloc[game_idx]\n",
        "    \n",
        "    for i in range(len(moves)):\n",
        "        # (color, move_as_integer, your_move)\n",
        "        game_combined.append((\n",
        "            colors[i],\n",
        "            move_to_number[moves[i][1]],  # convert move to integer\n",
        "            teoriat[i]\n",
        "        ))\n",
        "    # Append the combined features for the game\n",
        "    combined_features_per_game.append(game_combined)\n",
        "\n",
        "# Add to DataFrame\n",
        "df[\"game_data\"] = combined_features_per_game\n",
        "\n",
        "# Check first game data\n",
        "print(combined_features_per_game[0])"
      ]
    },
    {
      "cell_type": "code",
      "execution_count": 42,
      "metadata": {},
      "outputs": [
        {
          "data": {
            "text/html": [
              "<div>\n",
              "<style scoped>\n",
              "    .dataframe tbody tr th:only-of-type {\n",
              "        vertical-align: middle;\n",
              "    }\n",
              "\n",
              "    .dataframe tbody tr th {\n",
              "        vertical-align: top;\n",
              "    }\n",
              "\n",
              "    .dataframe thead th {\n",
              "        text-align: right;\n",
              "    }\n",
              "</style>\n",
              "<table border=\"1\" class=\"dataframe\">\n",
              "  <thead>\n",
              "    <tr style=\"text-align: right;\">\n",
              "      <th></th>\n",
              "      <th>game_id</th>\n",
              "      <th>game_data</th>\n",
              "    </tr>\n",
              "  </thead>\n",
              "  <tbody>\n",
              "    <tr>\n",
              "      <th>0</th>\n",
              "      <td>123118274906</td>\n",
              "      <td>[(1, 207, 1), (0, 493, 0), (1, 1489, 1), (0, 2...</td>\n",
              "    </tr>\n",
              "    <tr>\n",
              "      <th>1</th>\n",
              "      <td>123118510404</td>\n",
              "      <td>[(1, 1489, 0), (0, 263, 1), (1, 759, 0), (0, 9...</td>\n",
              "    </tr>\n",
              "    <tr>\n",
              "      <th>2</th>\n",
              "      <td>123118790014</td>\n",
              "      <td>[(1, 207, 0), (0, 934, 1), (1, 1037, 0), (0, 1...</td>\n",
              "    </tr>\n",
              "    <tr>\n",
              "      <th>3</th>\n",
              "      <td>123158939328</td>\n",
              "      <td>[(1, 207, 0), (0, 759, 1), (1, 934, 0), (0, 30...</td>\n",
              "    </tr>\n",
              "    <tr>\n",
              "      <th>4</th>\n",
              "      <td>123160166430</td>\n",
              "      <td>[(1, 207, 1), (0, 934, 0), (1, 279, 1), (0, 18...</td>\n",
              "    </tr>\n",
              "  </tbody>\n",
              "</table>\n",
              "</div>"
            ],
            "text/plain": [
              "        game_id                                          game_data\n",
              "0  123118274906  [(1, 207, 1), (0, 493, 0), (1, 1489, 1), (0, 2...\n",
              "1  123118510404  [(1, 1489, 0), (0, 263, 1), (1, 759, 0), (0, 9...\n",
              "2  123118790014  [(1, 207, 0), (0, 934, 1), (1, 1037, 0), (0, 1...\n",
              "3  123158939328  [(1, 207, 0), (0, 759, 1), (1, 934, 0), (0, 30...\n",
              "4  123160166430  [(1, 207, 1), (0, 934, 0), (1, 279, 1), (0, 18..."
            ]
          },
          "execution_count": 42,
          "metadata": {},
          "output_type": "execute_result"
        }
      ],
      "source": [
        "# lets drop the columns with unneccessary data \n",
        "df = df.drop(columns=[\"moves\", \"colors\", \"teoriat_moves\", \"first_move\",\"num_moves\"])\n",
        "df.head()"
      ]
    },
    {
      "cell_type": "markdown",
      "metadata": {},
      "source": [
        "### Step 2.2:  Embedded layer Encoding \n"
      ]
    },
    {
      "cell_type": "code",
      "execution_count": 43,
      "metadata": {},
      "outputs": [
        {
          "name": "stdout",
          "output_type": "stream",
          "text": [
            "Number of unique moves: 1927\n",
            "Move range: 0 to 1926\n"
          ]
        }
      ],
      "source": [
        "unique_moves = set()\n",
        "for game in df[\"game_data\"]:\n",
        "    for (color, move, your_move) in game:\n",
        "        unique_moves.add(move)\n",
        "\n",
        "print(f\"Number of unique moves: {len(unique_moves)}\")\n",
        "print(f\"Move range: {min(unique_moves)} to {max(unique_moves)}\")"
      ]
    }
  ],
  "metadata": {
    "kernelspec": {
      "display_name": "mlshort",
      "language": "python",
      "name": "python3"
    },
    "language_info": {
      "codemirror_mode": {
        "name": "ipython",
        "version": 3
      },
      "file_extension": ".py",
      "mimetype": "text/x-python",
      "name": "python",
      "nbconvert_exporter": "python",
      "pygments_lexer": "ipython3",
      "version": "3.11.11"
    }
  },
  "nbformat": 4,
  "nbformat_minor": 2
}
