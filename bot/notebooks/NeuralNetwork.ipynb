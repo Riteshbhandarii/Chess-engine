{
  "cells": [
    {
      "cell_type": "markdown",
      "metadata": {},
      "source": [
        "# Chess Neural Network\n",
        "\n",
        "Building a neural network that learns to play chess based on my gameplay data.\n",
        "\n",
        "## Goal\n",
        "Train a move prediction model to create an AI that plays like me.\n",
        "\n",
        "\n"
      ]
    },
    {
      "cell_type": "code",
      "execution_count": 1,
      "metadata": {},
      "outputs": [],
      "source": [
        "# Importing necessary libraries\n",
        "import pandas as pd\n",
        "import ast\n",
        "import torch\n",
        "import torch.nn as nn\n",
        "import torch.optim as optim\n",
        "from torch.utils.data import Dataset, DataLoader"
      ]
    },
    {
      "cell_type": "markdown",
      "metadata": {},
      "source": [
        "## Step 1: Load Chess Data\n",
        "\n",
        "Load cleaned data from csv file\n"
      ]
    },
    {
      "cell_type": "code",
      "execution_count": 2,
      "metadata": {},
      "outputs": [
        {
          "data": {
            "text/html": [
              "<div>\n",
              "<style scoped>\n",
              "    .dataframe tbody tr th:only-of-type {\n",
              "        vertical-align: middle;\n",
              "    }\n",
              "\n",
              "    .dataframe tbody tr th {\n",
              "        vertical-align: top;\n",
              "    }\n",
              "\n",
              "    .dataframe thead th {\n",
              "        text-align: right;\n",
              "    }\n",
              "</style>\n",
              "<table border=\"1\" class=\"dataframe\">\n",
              "  <thead>\n",
              "    <tr style=\"text-align: right;\">\n",
              "      <th></th>\n",
              "      <th>game_id</th>\n",
              "      <th>moves</th>\n",
              "      <th>num_moves</th>\n",
              "      <th>first_move</th>\n",
              "    </tr>\n",
              "  </thead>\n",
              "  <tbody>\n",
              "    <tr>\n",
              "      <th>0</th>\n",
              "      <td>123118274906</td>\n",
              "      <td>[('white', 'e4', True), ('black', 'e6', False)...</td>\n",
              "      <td>90</td>\n",
              "      <td>e4</td>\n",
              "    </tr>\n",
              "    <tr>\n",
              "      <th>1</th>\n",
              "      <td>123118510404</td>\n",
              "      <td>[('white', 'd4', False), ('black', 'c5', True)...</td>\n",
              "      <td>141</td>\n",
              "      <td>d4</td>\n",
              "    </tr>\n",
              "    <tr>\n",
              "      <th>2</th>\n",
              "      <td>123118790014</td>\n",
              "      <td>[('white', 'e4', False), ('black', 'e5', True)...</td>\n",
              "      <td>46</td>\n",
              "      <td>e4</td>\n",
              "    </tr>\n",
              "    <tr>\n",
              "      <th>3</th>\n",
              "      <td>123158939328</td>\n",
              "      <td>[('white', 'e4', False), ('black', 'd5', True)...</td>\n",
              "      <td>88</td>\n",
              "      <td>e4</td>\n",
              "    </tr>\n",
              "    <tr>\n",
              "      <th>4</th>\n",
              "      <td>123160166430</td>\n",
              "      <td>[('white', 'e4', True), ('black', 'e5', False)...</td>\n",
              "      <td>110</td>\n",
              "      <td>e4</td>\n",
              "    </tr>\n",
              "  </tbody>\n",
              "</table>\n",
              "</div>"
            ],
            "text/plain": [
              "        game_id                                              moves  num_moves  \\\n",
              "0  123118274906  [('white', 'e4', True), ('black', 'e6', False)...         90   \n",
              "1  123118510404  [('white', 'd4', False), ('black', 'c5', True)...        141   \n",
              "2  123118790014  [('white', 'e4', False), ('black', 'e5', True)...         46   \n",
              "3  123158939328  [('white', 'e4', False), ('black', 'd5', True)...         88   \n",
              "4  123160166430  [('white', 'e4', True), ('black', 'e5', False)...        110   \n",
              "\n",
              "  first_move  \n",
              "0         e4  \n",
              "1         d4  \n",
              "2         e4  \n",
              "3         e4  \n",
              "4         e4  "
            ]
          },
          "execution_count": 2,
          "metadata": {},
          "output_type": "execute_result"
        }
      ],
      "source": [
        "df = pd.read_csv(\"C:/Users/anany/OneDrive/Documents/Chess-engine/bot/data-analysis/cleaned_data.csv\")\n",
        "df.head()"
      ]
    },
    {
      "cell_type": "markdown",
      "metadata": {},
      "source": [
        "# Step 2: Pre-processing\n",
        "\n",
        "2.1 Turning features to numerical values (moves.. etc) \n",
        "\n",
        "2.2 Encoding the features to be trained"
      ]
    },
    {
      "cell_type": "code",
      "execution_count": 3,
      "metadata": {},
      "outputs": [
        {
          "data": {
            "text/plain": [
              "['e4', 'e6', 'd4', 'Qh4', 'Nc3', 'f5', 'Nf3', 'Qe7', 'e5', 'Qb4']"
            ]
          },
          "execution_count": 3,
          "metadata": {},
          "output_type": "execute_result"
        }
      ],
      "source": [
        "# convert string representation of list to actual list\n",
        "df[\"moves\"] = df[\"moves\"].apply(ast.literal_eval)\n",
        "\n",
        "# saving all the moves to single list to be encoded \n",
        "every_move = []\n",
        "for game in df[\"moves\"]:\n",
        "    for move in game:\n",
        "        every_move.append(move[1])\n",
        "\n",
        "every_move[:10]"
      ]
    },
    {
      "cell_type": "code",
      "execution_count": 4,
      "metadata": {},
      "outputs": [
        {
          "name": "stdout",
          "output_type": "stream",
          "text": [
            "Number of different moves: 1927\n",
            "\n",
            "First 10 moves as numbers: \n",
            "[391, 1078, 690, 1585, 223, 1424, 1850, 667, 945, 1099]\n",
            "\n",
            "First 10 original moves: \n",
            "['e4', 'e6', 'd4', 'Qh4', 'Nc3', 'f5', 'Nf3', 'Qe7', 'e5', 'Qb4']\n"
          ]
        }
      ],
      "source": [
        "# getting all the unique moves\n",
        "unique_moves = set(every_move)  # just the unique moves\n",
        "print(\"Number of different moves:\", len(unique_moves))\n",
        "print()\n",
        "\n",
        "# give move a number\n",
        "move_to_number = {}\n",
        "\n",
        "# turning integer back to moves (for future use)\n",
        "number_to_move= {}\n",
        "\n",
        "for i, move in enumerate(unique_moves):\n",
        "    move_to_number[move] = i\n",
        "    number_to_move[i] = move\n",
        "\n",
        "# turning all the numbers into integers\n",
        "number_moves = []\n",
        "for move in every_move:\n",
        "    number_moves.append(move_to_number[move])\n",
        "\n",
        "# first 10 moves\n",
        "print(\"First 10 moves as numbers: \")\n",
        "print(number_moves[:10])\n",
        "print()\n",
        "\n",
        "# first 10 original moves\n",
        "print(\"First 10 original moves: \")\n",
        "print(every_move[:10]) "
      ]
    },
    {
      "cell_type": "code",
      "execution_count": 5,
      "metadata": {},
      "outputs": [
        {
          "name": "stdout",
          "output_type": "stream",
          "text": [
            "moves     [(white, e4, True), (black, e6, False), (white...\n",
            "colors    [1, 0, 1, 0, 1, 0, 1, 0, 1, 0, 1, 0, 1, 0, 1, ...\n",
            "Name: 0, dtype: object\n"
          ]
        }
      ],
      "source": [
        "# Create colors per game\n",
        "colors_per_game = []\n",
        "\n",
        "for game in df[\"moves\"]:\n",
        "    game_colors = []\n",
        "    for move in game:\n",
        "        if move[0] == \"white\":\n",
        "            game_colors.append(1)\n",
        "        else:  # black\n",
        "            game_colors.append(0)\n",
        "    colors_per_game.append(game_colors)\n",
        "\n",
        "# Add to DataFrame\n",
        "df[\"colors\"] = colors_per_game\n",
        "\n",
        "# Check first row\n",
        "print(df[[\"moves\", \"colors\"]].iloc[0])\n"
      ]
    },
    {
      "cell_type": "code",
      "execution_count": 6,
      "metadata": {},
      "outputs": [
        {
          "name": "stdout",
          "output_type": "stream",
          "text": [
            "moves            [(white, e4, True), (black, e6, False), (white...\n",
            "teoriat_moves    [1, 0, 1, 0, 1, 0, 1, 0, 1, 0, 1, 0, 1, 0, 1, ...\n",
            "Name: 0, dtype: object\n"
          ]
        }
      ],
      "source": [
        "# turn white or black to integers ( 1  = (White), 0 = (Black) )\n",
        "teoriat_moves_per_game = []\n",
        "\n",
        "for game in df[\"moves\"]:\n",
        "    game_teoriat = []\n",
        "    for move in game:\n",
        "        if move[2] == True:\n",
        "            game_teoriat.append(1)\n",
        "        else:\n",
        "            game_teoriat.append(0)\n",
        "    teoriat_moves_per_game.append(game_teoriat)\n",
        "\n",
        "# Add to DataFrame\n",
        "df[\"teoriat_moves\"] = teoriat_moves_per_game\n",
        "\n",
        "# Check first row\n",
        "print(df[[\"moves\", \"teoriat_moves\"]].iloc[0])"
      ]
    },
    {
      "cell_type": "code",
      "execution_count": 7,
      "metadata": {},
      "outputs": [
        {
          "name": "stdout",
          "output_type": "stream",
          "text": [
            "[(1, 391, 1), (0, 1078, 0), (1, 690, 1), (0, 1585, 0), (1, 223, 1), (0, 1424, 0), (1, 1850, 1), (0, 667, 0), (1, 945, 1), (0, 1099, 0), (1, 1205, 1), (0, 521, 0), (1, 38, 1), (0, 331, 0), (1, 587, 1), (0, 665, 0), (1, 121, 1), (0, 1094, 0), (1, 1551, 1), (0, 1044, 0), (1, 1874, 1), (0, 1562, 0), (1, 769, 1), (0, 1523, 0), (1, 632, 1), (0, 1835, 0), (1, 267, 1), (0, 1794, 0), (1, 525, 1), (0, 1225, 0), (1, 1874, 1), (0, 1313, 0), (1, 1624, 1), (0, 1427, 0), (1, 541, 1), (0, 1512, 0), (1, 753, 1), (0, 963, 0), (1, 760, 1), (0, 984, 0), (1, 517, 1), (0, 729, 0), (1, 1861, 1), (0, 534, 0), (1, 541, 1), (0, 1626, 0), (1, 1721, 1), (0, 780, 0), (1, 322, 1), (0, 691, 0), (1, 161, 1), (0, 1789, 0), (1, 290, 1), (0, 1094, 0), (1, 1903, 1), (0, 1403, 0), (1, 541, 1), (0, 826, 0), (1, 760, 1), (0, 677, 0), (1, 1331, 1), (0, 1038, 0), (1, 852, 1), (0, 1468, 0), (1, 1157, 1), (0, 1287, 0), (1, 1106, 1), (0, 1182, 0), (1, 1331, 1), (0, 1287, 0), (1, 1106, 1), (0, 1182, 0), (1, 1757, 1), (0, 1442, 0), (1, 1019, 1), (0, 1876, 0), (1, 842, 1), (0, 945, 0), (1, 1139, 1), (0, 922, 0), (1, 1287, 1), (0, 1889, 0), (1, 637, 1), (0, 391, 0), (1, 456, 1), (0, 1728, 0), (1, 541, 1), (0, 804, 0), (1, 1322, 1), (0, 1442, 0)]\n"
          ]
        }
      ],
      "source": [
        "#combine all the features into a single list of tuples seperated by games \n",
        "combined_features_per_game = []\n",
        "\n",
        "for game_idx in range(len(df)):\n",
        "    game_combined = []\n",
        "    moves = df[\"moves\"].iloc[game_idx]\n",
        "    colors = df[\"colors\"].iloc[game_idx]\n",
        "    teoriat = df[\"teoriat_moves\"].iloc[game_idx]\n",
        "    \n",
        "    for i in range(len(moves)):\n",
        "        # (color, move_as_integer, your_move)\n",
        "        game_combined.append((\n",
        "            colors[i],\n",
        "            move_to_number[moves[i][1]],  # convert move to integer\n",
        "            teoriat[i]\n",
        "        ))\n",
        "    # Append the combined features for the game\n",
        "    combined_features_per_game.append(game_combined)\n",
        "\n",
        "# Add to DataFrame\n",
        "df[\"game_data\"] = combined_features_per_game\n",
        "\n",
        "# Check first game data\n",
        "print(combined_features_per_game[0])"
      ]
    },
    {
      "cell_type": "code",
      "execution_count": 8,
      "metadata": {},
      "outputs": [
        {
          "data": {
            "text/html": [
              "<div>\n",
              "<style scoped>\n",
              "    .dataframe tbody tr th:only-of-type {\n",
              "        vertical-align: middle;\n",
              "    }\n",
              "\n",
              "    .dataframe tbody tr th {\n",
              "        vertical-align: top;\n",
              "    }\n",
              "\n",
              "    .dataframe thead th {\n",
              "        text-align: right;\n",
              "    }\n",
              "</style>\n",
              "<table border=\"1\" class=\"dataframe\">\n",
              "  <thead>\n",
              "    <tr style=\"text-align: right;\">\n",
              "      <th></th>\n",
              "      <th>game_id</th>\n",
              "      <th>game_data</th>\n",
              "    </tr>\n",
              "  </thead>\n",
              "  <tbody>\n",
              "    <tr>\n",
              "      <th>0</th>\n",
              "      <td>123118274906</td>\n",
              "      <td>[(1, 391, 1), (0, 1078, 0), (1, 690, 1), (0, 1...</td>\n",
              "    </tr>\n",
              "    <tr>\n",
              "      <th>1</th>\n",
              "      <td>123118510404</td>\n",
              "      <td>[(1, 690, 0), (0, 462, 1), (1, 1425, 0), (0, 9...</td>\n",
              "    </tr>\n",
              "    <tr>\n",
              "      <th>2</th>\n",
              "      <td>123118790014</td>\n",
              "      <td>[(1, 391, 0), (0, 945, 1), (1, 1850, 0), (0, 1...</td>\n",
              "    </tr>\n",
              "    <tr>\n",
              "      <th>3</th>\n",
              "      <td>123158939328</td>\n",
              "      <td>[(1, 391, 0), (0, 1425, 1), (1, 945, 0), (0, 5...</td>\n",
              "    </tr>\n",
              "    <tr>\n",
              "      <th>4</th>\n",
              "      <td>123160166430</td>\n",
              "      <td>[(1, 391, 1), (0, 945, 0), (1, 585, 1), (0, 11...</td>\n",
              "    </tr>\n",
              "  </tbody>\n",
              "</table>\n",
              "</div>"
            ],
            "text/plain": [
              "        game_id                                          game_data\n",
              "0  123118274906  [(1, 391, 1), (0, 1078, 0), (1, 690, 1), (0, 1...\n",
              "1  123118510404  [(1, 690, 0), (0, 462, 1), (1, 1425, 0), (0, 9...\n",
              "2  123118790014  [(1, 391, 0), (0, 945, 1), (1, 1850, 0), (0, 1...\n",
              "3  123158939328  [(1, 391, 0), (0, 1425, 1), (1, 945, 0), (0, 5...\n",
              "4  123160166430  [(1, 391, 1), (0, 945, 0), (1, 585, 1), (0, 11..."
            ]
          },
          "execution_count": 8,
          "metadata": {},
          "output_type": "execute_result"
        }
      ],
      "source": [
        "# lets drop the columns with unneccessary data \n",
        "df = df.drop(columns=[\"moves\", \"colors\", \"teoriat_moves\", \"first_move\",\"num_moves\"])\n",
        "df.head()"
      ]
    },
    {
      "cell_type": "markdown",
      "metadata": {},
      "source": [
        "### Step 2.2:  Embedded layer Encoding \n"
      ]
    },
    {
      "cell_type": "code",
      "execution_count": 11,
      "metadata": {},
      "outputs": [
        {
          "name": "stdout",
          "output_type": "stream",
          "text": [
            "Total training samples: 20966\n",
            "Vocabulary size (unique moves): 1638\n"
          ]
        }
      ],
      "source": [
        "# extract teoriat's moves per game\n",
        "teoriat_sequences = []\n",
        "for game_moves in df[\"game_data\"]:\n",
        "    teoriat_moves = [m[1] for m in game_moves if m[2] == 1]\n",
        "    if len(teoriat_moves) > 5:\n",
        "        teoriat_sequences.append(teoriat_moves)\n",
        "\n",
        "# prep sequences for training\n",
        "all_move_ids = sorted(list(set([m for seq in teoriat_sequences for m in seq])))\n",
        "move_to_idx = {move: i for i, move in enumerate(all_move_ids)}\n",
        "idx_to_move = {i: move for move, i in move_to_idx.items()}\n",
        "vocab_size = len(move_to_idx)\n",
        "\n",
        "# encode teoriat_moves as indices\n",
        "encoded_sequences = [[move_to_idx[m] for m in seq] for seq in teoriat_sequences]\n",
        "\n",
        "# create dataset for RNN\n",
        "class ChessDataset(Dataset):\n",
        "    def __init__(self, encoded_sequences, seq_len=10):\n",
        "        self.seq_len = seq_len\n",
        "        self.samples = []\n",
        "\n",
        "        for seq in encoded_sequences:\n",
        "            for i in range(len(seq) - seq_len):\n",
        "                x = seq[i:i+seq_len]\n",
        "                y = seq[i+seq_len]\n",
        "                self.samples.append((x, y))\n",
        "\n",
        "    def __len__(self):\n",
        "        return len(self.samples)\n",
        "\n",
        "    def __getitem__(self, idx):\n",
        "        x, y = self.samples[idx]\n",
        "        return torch.tensor(x, dtype=torch.long), torch.tensor(y, dtype=torch.long)\n",
        "\n",
        "dataset = ChessDataset(encoded_sequences, seq_len=10)\n",
        "train_loader = DataLoader(dataset, batch_size=64, shuffle=True)\n",
        "\n",
        "print(f\"Total training samples: {len(dataset)}\")\n",
        "print(f\"Vocabulary size (unique moves): {vocab_size}\")"
      ]
    },
    {
      "cell_type": "markdown",
      "metadata": {},
      "source": [
        "### Step 2.3: Model Definition"
      ]
    },
    {
      "cell_type": "code",
      "execution_count": 20,
      "metadata": {},
      "outputs": [
        {
          "name": "stdout",
          "output_type": "stream",
          "text": [
            "ChessRNN(\n",
            "  (embedding): Embedding(1638, 128)\n",
            "  (lstm): LSTM(128, 256, num_layers=2, batch_first=True, dropout=0.3)\n",
            "  (dropout): Dropout(p=0.1, inplace=False)\n",
            "  (fc): Linear(in_features=256, out_features=1638, bias=True)\n",
            ")\n"
          ]
        }
      ],
      "source": [
        "#model \n",
        "class ChessRNN(nn.Module):\n",
        "    def __init__(self, vocab_size, embed_dim=128, hidden_dim=256, num_layers=2, dropout=0.3):\n",
        "        super().__init__()\n",
        "        self.embedding = nn.Embedding(vocab_size, embed_dim)\n",
        "        self.lstm = nn.LSTM(embed_dim, hidden_dim, num_layers, batch_first=True, dropout=dropout)\n",
        "        self.dropout = nn.Dropout(0.1)\n",
        "        self.fc = nn.Linear(hidden_dim, vocab_size)\n",
        "\n",
        "    def forward(self, x):\n",
        "        x = self.embedding(x)\n",
        "        out, _ = self.lstm(x)\n",
        "        out = self.dropout(out[:, -1, :])\n",
        "        out = self.fc(out)\n",
        "        return out\n",
        "\n",
        "# Instantiate model\n",
        "device = torch.device(\"cuda\" if torch.cuda.is_available() else \"cpu\")\n",
        "model = ChessRNN(vocab_size).to(device)\n",
        "print(model)"
      ]
    },
    {
      "cell_type": "markdown",
      "metadata": {},
      "source": [
        "### Step 2.4: Training Loop"
      ]
    },
    {
      "cell_type": "code",
      "execution_count": null,
      "metadata": {},
      "outputs": [
        {
          "name": "stdout",
          "output_type": "stream",
          "text": [
            "Epoch [1] | Loss: 6.7419 | Accuracy: 0.0085\n",
            "Epoch [2] | Loss: 6.2669 | Accuracy: 0.0183\n",
            "Epoch [3] | Loss: 5.9711 | Accuracy: 0.0275\n",
            "Epoch [4] | Loss: 5.6232 | Accuracy: 0.0426\n",
            "Epoch [5] | Loss: 5.2113 | Accuracy: 0.0651\n",
            "Epoch [6] | Loss: 4.7570 | Accuracy: 0.1020\n",
            "Epoch [7] | Loss: 4.2926 | Accuracy: 0.1460\n",
            "Epoch [8] | Loss: 3.8548 | Accuracy: 0.2000\n",
            "Epoch [9] | Loss: 3.4382 | Accuracy: 0.2632\n",
            "Epoch [10] | Loss: 3.0536 | Accuracy: 0.3216\n",
            "\n",
            " Final Training Results\n",
            "Final Training Loss: 3.0536\n",
            "Final Training Accuracy: 0.3216\n"
          ]
        }
      ],
      "source": [
        "criterion = nn.CrossEntropyLoss()\n",
        "optimizer = torch.optim.Adam(model.parameters(), lr=0.001)\n",
        "\n",
        "epochs = 10\n",
        "\n",
        "for epoch in range(epochs):\n",
        "    model.train()\n",
        "    total_loss = 0\n",
        "    correct = total = 0\n",
        "\n",
        "    for x_batch, y_batch in train_loader:\n",
        "        x_batch, y_batch = x_batch.to(device), y_batch.to(device)\n",
        "\n",
        "        optimizer.zero_grad()\n",
        "        output = model(x_batch)\n",
        "        loss = criterion(output, y_batch)\n",
        "        loss.backward()\n",
        "        optimizer.step()\n",
        "\n",
        "        total_loss += loss.item()\n",
        "        total += y_batch.size(0)\n",
        "        preds = output.argmax(dim=1)\n",
        "        correct += (preds == y_batch).sum().item()\n",
        "\n",
        "    avg_loss = total_loss / len(train_loader)\n",
        "    train_acc = correct / total\n",
        "\n",
        "    print(f\"Epoch [{epoch+1}] | Loss: {avg_loss:.4f} | Accuracy: {train_acc:.4f}\")\n",
        "\n",
        "#Final summary\n",
        "print(\"\\n Final Training Results\")\n",
        "print(f\"Final Training Loss: {avg_loss:.4f}\")\n",
        "print(f\"Final Training Accuracy: {train_acc:.4f}\")\n"
      ]
    },
    {
      "cell_type": "code",
      "execution_count": null,
      "metadata": {},
      "outputs": [],
      "source": []
    }
  ],
  "metadata": {
    "kernelspec": {
      "display_name": "mlshort",
      "language": "python",
      "name": "python3"
    },
    "language_info": {
      "codemirror_mode": {
        "name": "ipython",
        "version": 3
      },
      "file_extension": ".py",
      "mimetype": "text/x-python",
      "name": "python",
      "nbconvert_exporter": "python",
      "pygments_lexer": "ipython3",
      "version": "3.11.11"
    }
  },
  "nbformat": 4,
  "nbformat_minor": 2
}
