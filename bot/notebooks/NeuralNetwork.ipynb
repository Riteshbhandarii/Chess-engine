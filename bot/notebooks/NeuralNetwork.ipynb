{
  "cells": [
    {
      "cell_type": "markdown",
      "metadata": {},
      "source": [
        "# Chess Neural Network\n",
        "\n",
        "Building a neural network that learns to play chess based on my gameplay data.\n",
        "\n",
        "## Goal\n",
        "Train a move prediction model to create an AI that plays like me.\n",
        "\n",
        "\n"
      ]
    },
    {
      "cell_type": "code",
      "execution_count": 1,
      "metadata": {},
      "outputs": [],
      "source": [
        "# Importing necessary libraries\n",
        "import pandas as pd\n",
        "import ast\n",
        "import torch\n",
        "import torch.nn as nn"
      ]
    },
    {
      "cell_type": "markdown",
      "metadata": {},
      "source": [
        "## Step 1: Load Chess Data\n",
        "\n",
        "Load cleaned data from csv file\n"
      ]
    },
    {
      "cell_type": "code",
      "execution_count": 2,
      "metadata": {},
      "outputs": [
        {
          "data": {
            "text/html": [
              "<div>\n",
              "<style scoped>\n",
              "    .dataframe tbody tr th:only-of-type {\n",
              "        vertical-align: middle;\n",
              "    }\n",
              "\n",
              "    .dataframe tbody tr th {\n",
              "        vertical-align: top;\n",
              "    }\n",
              "\n",
              "    .dataframe thead th {\n",
              "        text-align: right;\n",
              "    }\n",
              "</style>\n",
              "<table border=\"1\" class=\"dataframe\">\n",
              "  <thead>\n",
              "    <tr style=\"text-align: right;\">\n",
              "      <th></th>\n",
              "      <th>game_id</th>\n",
              "      <th>moves</th>\n",
              "      <th>num_moves</th>\n",
              "      <th>first_move</th>\n",
              "    </tr>\n",
              "  </thead>\n",
              "  <tbody>\n",
              "    <tr>\n",
              "      <th>0</th>\n",
              "      <td>123118274906</td>\n",
              "      <td>[('white', 'e4', True), ('black', 'e6', False)...</td>\n",
              "      <td>90</td>\n",
              "      <td>e4</td>\n",
              "    </tr>\n",
              "    <tr>\n",
              "      <th>1</th>\n",
              "      <td>123118510404</td>\n",
              "      <td>[('white', 'd4', False), ('black', 'c5', True)...</td>\n",
              "      <td>141</td>\n",
              "      <td>d4</td>\n",
              "    </tr>\n",
              "    <tr>\n",
              "      <th>2</th>\n",
              "      <td>123118790014</td>\n",
              "      <td>[('white', 'e4', False), ('black', 'e5', True)...</td>\n",
              "      <td>46</td>\n",
              "      <td>e4</td>\n",
              "    </tr>\n",
              "    <tr>\n",
              "      <th>3</th>\n",
              "      <td>123158939328</td>\n",
              "      <td>[('white', 'e4', False), ('black', 'd5', True)...</td>\n",
              "      <td>88</td>\n",
              "      <td>e4</td>\n",
              "    </tr>\n",
              "    <tr>\n",
              "      <th>4</th>\n",
              "      <td>123160166430</td>\n",
              "      <td>[('white', 'e4', True), ('black', 'e5', False)...</td>\n",
              "      <td>110</td>\n",
              "      <td>e4</td>\n",
              "    </tr>\n",
              "  </tbody>\n",
              "</table>\n",
              "</div>"
            ],
            "text/plain": [
              "        game_id                                              moves  num_moves  \\\n",
              "0  123118274906  [('white', 'e4', True), ('black', 'e6', False)...         90   \n",
              "1  123118510404  [('white', 'd4', False), ('black', 'c5', True)...        141   \n",
              "2  123118790014  [('white', 'e4', False), ('black', 'e5', True)...         46   \n",
              "3  123158939328  [('white', 'e4', False), ('black', 'd5', True)...         88   \n",
              "4  123160166430  [('white', 'e4', True), ('black', 'e5', False)...        110   \n",
              "\n",
              "  first_move  \n",
              "0         e4  \n",
              "1         d4  \n",
              "2         e4  \n",
              "3         e4  \n",
              "4         e4  "
            ]
          },
          "execution_count": 2,
          "metadata": {},
          "output_type": "execute_result"
        }
      ],
      "source": [
        "df = pd.read_csv(\"/Users/riteshbhandari/Documents/GitHub/Chess-engine/bot/data-analysis/cleaned_data.csv\")\n",
        "df.head()"
      ]
    },
    {
      "cell_type": "markdown",
      "metadata": {},
      "source": [
        "# Step 2: Pre-processing\n",
        "\n",
        "2.1 Turning features to numerical values (moves.. etc) \n",
        "\n",
        "2.2 Encoding the features to be trained"
      ]
    },
    {
      "cell_type": "code",
      "execution_count": 3,
      "metadata": {},
      "outputs": [
        {
          "data": {
            "text/plain": [
              "['e4', 'e6', 'd4', 'Qh4', 'Nc3', 'f5', 'Nf3', 'Qe7', 'e5', 'Qb4']"
            ]
          },
          "execution_count": 3,
          "metadata": {},
          "output_type": "execute_result"
        }
      ],
      "source": [
        "# convert string representation of list to actual list\n",
        "df[\"moves\"] = df[\"moves\"].apply(ast.literal_eval)\n",
        "\n",
        "# saving all the moves to single list to be encoded \n",
        "every_move = []\n",
        "for game in df[\"moves\"]:\n",
        "    for move in game:\n",
        "        every_move.append(move[1])\n",
        "\n",
        "every_move[:10]"
      ]
    },
    {
      "cell_type": "code",
      "execution_count": 4,
      "metadata": {},
      "outputs": [
        {
          "name": "stdout",
          "output_type": "stream",
          "text": [
            "Number of different moves: 1927\n",
            "\n",
            "First 10 moves as numbers: \n",
            "[830, 1014, 698, 1688, 851, 644, 417, 1251, 634, 73]\n",
            "\n",
            "First 10 original moves: \n",
            "['e4', 'e6', 'd4', 'Qh4', 'Nc3', 'f5', 'Nf3', 'Qe7', 'e5', 'Qb4']\n"
          ]
        }
      ],
      "source": [
        "# getting all the unique moves\n",
        "unique_moves = set(every_move)  # just the unique moves\n",
        "print(\"Number of different moves:\", len(unique_moves))\n",
        "print()\n",
        "\n",
        "# give move a number\n",
        "move_to_number = {}\n",
        "\n",
        "# turning integer back to moves (for future use)\n",
        "number_to_move= {}\n",
        "\n",
        "for i, move in enumerate(unique_moves):\n",
        "    move_to_number[move] = i\n",
        "    number_to_move[i] = move\n",
        "\n",
        "# turning all the numbers into integers\n",
        "number_moves = []\n",
        "for move in every_move:\n",
        "    number_moves.append(move_to_number[move])\n",
        "\n",
        "# first 10 moves\n",
        "print(\"First 10 moves as numbers: \")\n",
        "print(number_moves[:10])\n",
        "print()\n",
        "\n",
        "# first 10 original moves\n",
        "print(\"First 10 original moves: \")\n",
        "print(every_move[:10]) "
      ]
    },
    {
      "cell_type": "code",
      "execution_count": 5,
      "metadata": {},
      "outputs": [
        {
          "name": "stdout",
          "output_type": "stream",
          "text": [
            "moves     [(white, e4, True), (black, e6, False), (white...\n",
            "colors    [1, 0, 1, 0, 1, 0, 1, 0, 1, 0, 1, 0, 1, 0, 1, ...\n",
            "Name: 0, dtype: object\n"
          ]
        }
      ],
      "source": [
        "# Create colors per game\n",
        "colors_per_game = []\n",
        "\n",
        "for game in df[\"moves\"]:\n",
        "    game_colors = []\n",
        "    for move in game:\n",
        "        if move[0] == \"white\":\n",
        "            game_colors.append(1)\n",
        "        else:  # black\n",
        "            game_colors.append(0)\n",
        "    colors_per_game.append(game_colors)\n",
        "\n",
        "# Add to DataFrame\n",
        "df[\"colors\"] = colors_per_game\n",
        "\n",
        "# Check first row\n",
        "print(df[[\"moves\", \"colors\"]].iloc[0])\n"
      ]
    },
    {
      "cell_type": "code",
      "execution_count": 6,
      "metadata": {},
      "outputs": [
        {
          "name": "stdout",
          "output_type": "stream",
          "text": [
            "moves            [(white, e4, True), (black, e6, False), (white...\n",
            "teoriat_moves    [1, 0, 1, 0, 1, 0, 1, 0, 1, 0, 1, 0, 1, 0, 1, ...\n",
            "Name: 0, dtype: object\n"
          ]
        }
      ],
      "source": [
        "# turn white or black to integers ( 1  = (White), 0 = (Black) )\n",
        "teoriat_moves_per_game = []\n",
        "\n",
        "for game in df[\"moves\"]:\n",
        "    game_teoriat = []\n",
        "    for move in game:\n",
        "        if move[2] == True:\n",
        "            game_teoriat.append(1)\n",
        "        else:\n",
        "            game_teoriat.append(0)\n",
        "    teoriat_moves_per_game.append(game_teoriat)\n",
        "\n",
        "# Add to DataFrame\n",
        "df[\"teoriat_moves\"] = teoriat_moves_per_game\n",
        "\n",
        "# Check first row\n",
        "print(df[[\"moves\", \"teoriat_moves\"]].iloc[0])"
      ]
    },
    {
      "cell_type": "code",
      "execution_count": 7,
      "metadata": {},
      "outputs": [
        {
          "name": "stdout",
          "output_type": "stream",
          "text": [
            "[(1, 830, 1), (0, 1014, 0), (1, 698, 1), (0, 1688, 0), (1, 851, 1), (0, 644, 0), (1, 417, 1), (0, 1251, 0), (1, 634, 1), (0, 73, 0), (1, 537, 1), (0, 476, 0), (1, 692, 1), (0, 13, 0), (1, 1581, 1), (0, 177, 0), (1, 821, 1), (0, 171, 0), (1, 249, 1), (0, 26, 0), (1, 1077, 1), (0, 907, 0), (1, 1854, 1), (0, 1304, 0), (1, 1383, 1), (0, 169, 0), (1, 4, 1), (0, 733, 0), (1, 1424, 1), (0, 142, 0), (1, 1077, 1), (0, 807, 0), (1, 480, 1), (0, 544, 0), (1, 1766, 1), (0, 547, 0), (1, 1663, 1), (0, 1416, 0), (1, 1623, 1), (0, 293, 0), (1, 427, 1), (0, 486, 0), (1, 911, 1), (0, 701, 0), (1, 1766, 1), (0, 89, 0), (1, 1123, 1), (0, 1073, 0), (1, 459, 1), (0, 1870, 0), (1, 676, 1), (0, 1412, 0), (1, 886, 1), (0, 171, 0), (1, 1465, 1), (0, 1553, 0), (1, 1766, 1), (0, 1187, 0), (1, 1623, 1), (0, 814, 0), (1, 1450, 1), (0, 848, 0), (1, 688, 1), (0, 1543, 0), (1, 1453, 1), (0, 248, 0), (1, 1602, 1), (0, 658, 0), (1, 1450, 1), (0, 248, 0), (1, 1602, 1), (0, 658, 0), (1, 1508, 1), (0, 256, 0), (1, 342, 1), (0, 553, 0), (1, 1481, 1), (0, 634, 0), (1, 863, 1), (0, 1473, 0), (1, 248, 1), (0, 334, 0), (1, 1523, 1), (0, 830, 0), (1, 1033, 1), (0, 484, 0), (1, 1766, 1), (0, 409, 0), (1, 715, 1), (0, 256, 0)]\n"
          ]
        }
      ],
      "source": [
        "#combine all the features into a single list of tuples seperated by games \n",
        "combined_features_per_game = []\n",
        "\n",
        "for game_idx in range(len(df)):\n",
        "    game_combined = []\n",
        "    moves = df[\"moves\"].iloc[game_idx]\n",
        "    colors = df[\"colors\"].iloc[game_idx]\n",
        "    teoriat = df[\"teoriat_moves\"].iloc[game_idx]\n",
        "    \n",
        "    for i in range(len(moves)):\n",
        "        # (color, move_as_integer, your_move)\n",
        "        game_combined.append((\n",
        "            colors[i],\n",
        "            move_to_number[moves[i][1]],  # convert move to integer\n",
        "            teoriat[i]\n",
        "        ))\n",
        "    # Append the combined features for the game\n",
        "    combined_features_per_game.append(game_combined)\n",
        "\n",
        "# Add to DataFrame\n",
        "df[\"game_data\"] = combined_features_per_game\n",
        "\n",
        "# Check first game data\n",
        "print(combined_features_per_game[0])"
      ]
    },
    {
      "cell_type": "code",
      "execution_count": 8,
      "metadata": {},
      "outputs": [
        {
          "data": {
            "text/html": [
              "<div>\n",
              "<style scoped>\n",
              "    .dataframe tbody tr th:only-of-type {\n",
              "        vertical-align: middle;\n",
              "    }\n",
              "\n",
              "    .dataframe tbody tr th {\n",
              "        vertical-align: top;\n",
              "    }\n",
              "\n",
              "    .dataframe thead th {\n",
              "        text-align: right;\n",
              "    }\n",
              "</style>\n",
              "<table border=\"1\" class=\"dataframe\">\n",
              "  <thead>\n",
              "    <tr style=\"text-align: right;\">\n",
              "      <th></th>\n",
              "      <th>game_id</th>\n",
              "      <th>game_data</th>\n",
              "    </tr>\n",
              "  </thead>\n",
              "  <tbody>\n",
              "    <tr>\n",
              "      <th>0</th>\n",
              "      <td>123118274906</td>\n",
              "      <td>[(1, 830, 1), (0, 1014, 0), (1, 698, 1), (0, 1...</td>\n",
              "    </tr>\n",
              "    <tr>\n",
              "      <th>1</th>\n",
              "      <td>123118510404</td>\n",
              "      <td>[(1, 698, 0), (0, 1482, 1), (1, 1428, 0), (0, ...</td>\n",
              "    </tr>\n",
              "    <tr>\n",
              "      <th>2</th>\n",
              "      <td>123118790014</td>\n",
              "      <td>[(1, 830, 0), (0, 634, 1), (1, 417, 0), (0, 14...</td>\n",
              "    </tr>\n",
              "    <tr>\n",
              "      <th>3</th>\n",
              "      <td>123158939328</td>\n",
              "      <td>[(1, 830, 0), (0, 1428, 1), (1, 634, 0), (0, 8...</td>\n",
              "    </tr>\n",
              "    <tr>\n",
              "      <th>4</th>\n",
              "      <td>123160166430</td>\n",
              "      <td>[(1, 830, 1), (0, 634, 0), (1, 103, 1), (0, 58...</td>\n",
              "    </tr>\n",
              "  </tbody>\n",
              "</table>\n",
              "</div>"
            ],
            "text/plain": [
              "        game_id                                          game_data\n",
              "0  123118274906  [(1, 830, 1), (0, 1014, 0), (1, 698, 1), (0, 1...\n",
              "1  123118510404  [(1, 698, 0), (0, 1482, 1), (1, 1428, 0), (0, ...\n",
              "2  123118790014  [(1, 830, 0), (0, 634, 1), (1, 417, 0), (0, 14...\n",
              "3  123158939328  [(1, 830, 0), (0, 1428, 1), (1, 634, 0), (0, 8...\n",
              "4  123160166430  [(1, 830, 1), (0, 634, 0), (1, 103, 1), (0, 58..."
            ]
          },
          "execution_count": 8,
          "metadata": {},
          "output_type": "execute_result"
        }
      ],
      "source": [
        "# lets drop the columns with unneccessary data \n",
        "df = df.drop(columns=[\"moves\", \"colors\", \"teoriat_moves\", \"first_move\",\"num_moves\"])\n",
        "df.head()"
      ]
    },
    {
      "cell_type": "markdown",
      "metadata": {},
      "source": [
        "### Step 2.2:  Embedded layer Encoding \n"
      ]
    }
  ],
  "metadata": {
    "kernelspec": {
      "display_name": "base",
      "language": "python",
      "name": "python3"
    },
    "language_info": {
      "codemirror_mode": {
        "name": "ipython",
        "version": 3
      },
      "file_extension": ".py",
      "mimetype": "text/x-python",
      "name": "python",
      "nbconvert_exporter": "python",
      "pygments_lexer": "ipython3",
      "version": "3.12.4"
    }
  },
  "nbformat": 4,
  "nbformat_minor": 2
}
